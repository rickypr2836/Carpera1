{
  "cells": [
    {
      "cell_type": "markdown",
      "source": [
        "Capitulo 1"
      ],
      "metadata": {
        "id": "rpsEPOq4-urX"
      }
    },
    {
      "cell_type": "code",
      "source": [
        "def cuad(n):\n",
        "    return n * n\n",
        "\n",
        "print(\"Prueba con (3,5):\")\n",
        "for x in range(3, 5):\n",
        "    print(f\"{x}^2 = {cuad(x)}\")\n",
        "\n",
        "print(\"\\nPrueba con (3,3):\")\n",
        "for x in range(3, 3):\n",
        "    print(f\"{x}^2 = {cuad(x)}\")\n",
        "\n",
        "print(\"\\nPrueba con (5,3):\")\n",
        "for x in range(5, 3):\n",
        "    print(f\"{x}^2 = {cuad(x)}\")"
      ],
      "metadata": {
        "id": "ysphDiC7-yUd",
        "outputId": "befd4ee4-0bf0-49dd-bebe-86b2aeb03945",
        "colab": {
          "base_uri": "https://localhost:8080/"
        }
      },
      "execution_count": 1,
      "outputs": [
        {
          "output_type": "stream",
          "name": "stdout",
          "text": [
            "Prueba con (3,5):\n",
            "3^2 = 9\n",
            "4^2 = 16\n",
            "\n",
            "Prueba con (3,3):\n",
            "\n",
            "Prueba con (5,3):\n"
          ]
        }
      ]
    },
    {
      "cell_type": "code",
      "source": [
        "def cuad(n):\n",
        "    return n * n\n",
        "\n",
        "n1 = int(input(\"Ingrese un número entero: \"))\n",
        "n2 = int(input(\"Ingrese otro número entero: \"))\n",
        "\n",
        "for x in range(n1, n2):\n",
        "    print(f\"x = {x}, x^2 = {cuad(x)}\")\n",
        "\n",
        "print(f\"Después del ciclo, x = {x}\")"
      ],
      "metadata": {
        "id": "TS5SdWR7_BQg",
        "outputId": "9a6508ce-76d2-4a72-e40a-b0d182474450",
        "colab": {
          "base_uri": "https://localhost:8080/"
        }
      },
      "execution_count": 5,
      "outputs": [
        {
          "output_type": "stream",
          "name": "stdout",
          "text": [
            "Ingrese un número entero: 4\n",
            "Ingrese otro número entero: 10\n",
            "x = 4, x^2 = 16\n",
            "x = 5, x^2 = 25\n",
            "x = 6, x^2 = 36\n",
            "x = 7, x^2 = 49\n",
            "x = 8, x^2 = 64\n",
            "x = 9, x^2 = 81\n",
            "Después del ciclo, x = 9\n"
          ]
        }
      ]
    },
    {
      "cell_type": "code",
      "source": [
        "def cuad(n):\n",
        "    return n * n\n",
        "\n",
        "n1 = int(input(\"Ingrese un número entero: \"))\n",
        "n2 = int(input(\"Ingrese otro número entero: \"))\n",
        "\n",
        "print(\"\\nNúmero | Cuadrado\")\n",
        "print(\"-----------------\")\n",
        "for x in range(n1, n2):\n",
        "    print(f\"{x:^7} | {cuad(x):^7}\")\n"
      ],
      "metadata": {
        "id": "Z6B9BaYO_MxV",
        "outputId": "9a9a9309-d8df-4a36-83ad-2e1546f76476",
        "colab": {
          "base_uri": "https://localhost:8080/"
        }
      },
      "execution_count": 4,
      "outputs": [
        {
          "output_type": "stream",
          "name": "stdout",
          "text": [
            "Ingrese un número entero: 4\n",
            "Ingrese otro número entero: 10\n",
            "\n",
            "Número | Cuadrado\n",
            "-----------------\n",
            "   4    |   16   \n",
            "   5    |   25   \n",
            "   6    |   36   \n",
            "   7    |   49   \n",
            "   8    |   64   \n",
            "   9    |   81   \n"
          ]
        }
      ]
    },
    {
      "cell_type": "markdown",
      "source": [
        "Capitulo 2"
      ],
      "metadata": {
        "id": "_ggwqxMY_iqU"
      }
    },
    {
      "cell_type": "code",
      "source": [
        "for i in range(10, 21):\n",
        "    print(i)"
      ],
      "metadata": {
        "id": "cGxYyyQt_lJk",
        "outputId": "c183818e-c37f-40ca-a4dd-7e66c7b02a0e",
        "colab": {
          "base_uri": "https://localhost:8080/"
        }
      },
      "execution_count": 6,
      "outputs": [
        {
          "output_type": "stream",
          "name": "stdout",
          "text": [
            "10\n",
            "11\n",
            "12\n",
            "13\n",
            "14\n",
            "15\n",
            "16\n",
            "17\n",
            "18\n",
            "19\n",
            "20\n"
          ]
        }
      ]
    },
    {
      "cell_type": "code",
      "source": [
        "amigos = [\"Juan\", \"María\", \"Pedro\", \"Laura\", \"Sofía\"]\n",
        "\n",
        "for amigo in amigos:\n",
        "    print(f\"Hola, {amigo}!\")\n"
      ],
      "metadata": {
        "id": "4UE-_yMQ_nzw",
        "outputId": "c0aa8d90-2a12-4c4b-ef65-f08e13eef018",
        "colab": {
          "base_uri": "https://localhost:8080/"
        }
      },
      "execution_count": 7,
      "outputs": [
        {
          "output_type": "stream",
          "name": "stdout",
          "text": [
            "Hola, Juan!\n",
            "Hola, María!\n",
            "Hola, Pedro!\n",
            "Hola, Laura!\n",
            "Hola, Sofía!\n"
          ]
        }
      ]
    },
    {
      "cell_type": "code",
      "source": [
        "amigos = []\n",
        "\n",
        "for i in range(5):\n",
        "    nombre = input(f\"Ingrese el nombre del amigo {i+1}: \")\n",
        "    amigos.append(nombre)\n",
        "\n",
        "for amigo in amigos:\n",
        "    print(f\"Hola, {amigo}!\")"
      ],
      "metadata": {
        "id": "gi-PE_RQ_pj2",
        "outputId": "e82eb1f8-193a-499d-9795-f28b587dab2a",
        "colab": {
          "base_uri": "https://localhost:8080/"
        }
      },
      "execution_count": 8,
      "outputs": [
        {
          "output_type": "stream",
          "name": "stdout",
          "text": [
            "Ingrese el nombre del amigo 1: Juan\n",
            "Ingrese el nombre del amigo 2: Laura\n",
            "Ingrese el nombre del amigo 3: Iker\n",
            "Ingrese el nombre del amigo 4: Sergio\n",
            "Ingrese el nombre del amigo 5: Noshe\n",
            "Hola, Juan!\n",
            "Hola, Laura!\n",
            "Hola, Iker!\n",
            "Hola, Sergio!\n",
            "Hola, Noshe!\n"
          ]
        }
      ]
    },
    {
      "cell_type": "code",
      "source": [
        "amigos = []\n",
        "\n",
        "for i in range(6):\n",
        "    nombre = input(f\"Ingrese el nombre del amigo {i+1}: \")\n",
        "    amigos.append(nombre)\n",
        "\n",
        "for amigo in amigos:\n",
        "    print(f\"Hola, {amigo}!\")"
      ],
      "metadata": {
        "id": "V9bOHSGv_2A7",
        "outputId": "af25c90f-dbe0-464c-fcf9-b0ac333085f6",
        "colab": {
          "base_uri": "https://localhost:8080/"
        }
      },
      "execution_count": 10,
      "outputs": [
        {
          "output_type": "stream",
          "name": "stdout",
          "text": [
            "Ingrese el nombre del amigo 1: Carlos\n",
            "Ingrese el nombre del amigo 2: Ricardo\n",
            "Ingrese el nombre del amigo 3: Noshe\n",
            "Ingrese el nombre del amigo 4: Sergio\n",
            "Ingrese el nombre del amigo 5: Molis\n",
            "Ingrese el nombre del amigo 6: Diego\n",
            "Hola, Carlos!\n",
            "Hola, Ricardo!\n",
            "Hola, Noshe!\n",
            "Hola, Sergio!\n",
            "Hola, Molis!\n",
            "Hola, Diego!\n"
          ]
        }
      ]
    },
    {
      "cell_type": "code",
      "source": [
        "num_amigos = int(input(\"¿Cuántos amigos quiere saludar? \"))\n",
        "\n",
        "amigos = []\n",
        "for i in range(num_amigos):\n",
        "    nombre = input(f\"Ingrese el nombre del amigo {i+1}: \")\n",
        "    amigos.append(nombre)\n",
        "\n",
        "for amigo in amigos:\n",
        "    print(f\"Hola, {amigo}!\")\n"
      ],
      "metadata": {
        "id": "BubY6K9lAE5W"
      },
      "execution_count": null,
      "outputs": []
    }
  ],
  "metadata": {
    "kernelspec": {
      "display_name": "Python 3",
      "language": "python",
      "name": "python3"
    },
    "language_info": {
      "codemirror_mode": {
        "name": "ipython",
        "version": 3
      },
      "file_extension": ".py",
      "mimetype": "text/x-python",
      "name": "python",
      "nbconvert_exporter": "python",
      "pygments_lexer": "ipython3",
      "version": "3.5.2"
    },
    "colab": {
      "provenance": [],
      "toc_visible": true
    }
  },
  "nbformat": 4,
  "nbformat_minor": 0
}